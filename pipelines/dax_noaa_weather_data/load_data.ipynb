{
 "cells": [
  {
   "cell_type": "markdown",
   "id": "9f52a956",
   "metadata": {
    "papermill": {
     "duration": 0.011464,
     "end_time": "2022-07-15T02:30:08.222656",
     "exception": false,
     "start_time": "2022-07-15T02:30:08.211192",
     "status": "completed"
    },
    "tags": []
   },
   "source": [
    "## Download a data set\n",
    "\n",
    "This notebook downloads a data set file from a public location. If the data set file is a compressed archive it will be decompressed. Upon completion the raw data set files  are located in the `data\\` directory.\n",
    "\n",
    "This notebook requires the following environment variables:\n",
    " -  `DATASET_URL` Public data set URL, e.g. `https://dax-cdn.cdn.appdomain.cloud/dax-fashion-mnist/1.0.2/fashion-mnist.tar.gz`"
   ]
  },
  {
   "cell_type": "code",
   "execution_count": 1,
   "id": "7125b4ed",
   "metadata": {
    "execution": {
     "iopub.execute_input": "2022-07-15T02:30:08.238359Z",
     "iopub.status.busy": "2022-07-15T02:30:08.237634Z",
     "iopub.status.idle": "2022-07-15T02:30:08.296781Z",
     "shell.execute_reply": "2022-07-15T02:30:08.296239Z"
    },
    "papermill": {
     "duration": 0.068467,
     "end_time": "2022-07-15T02:30:08.298719",
     "exception": false,
     "start_time": "2022-07-15T02:30:08.230252",
     "status": "completed"
    },
    "tags": []
   },
   "outputs": [],
   "source": [
    "import glob\n",
    "import os\n",
    "from pathlib import Path\n",
    "import requests\n",
    "import tarfile\n",
    "from urllib.parse import urlparse"
   ]
  },
  {
   "cell_type": "markdown",
   "id": "793877e6",
   "metadata": {
    "papermill": {
     "duration": 0.001369,
     "end_time": "2022-07-15T02:30:08.301740",
     "exception": false,
     "start_time": "2022-07-15T02:30:08.300371",
     "status": "completed"
    },
    "tags": []
   },
   "source": [
    "Verify that the `DATASET_URL` environment variable is set. If it is not set, a RuntimeError is raised."
   ]
  },
  {
   "cell_type": "code",
   "execution_count": 2,
   "id": "b8a6e204",
   "metadata": {
    "execution": {
     "iopub.execute_input": "2022-07-15T02:30:08.305238Z",
     "iopub.status.busy": "2022-07-15T02:30:08.305060Z",
     "iopub.status.idle": "2022-07-15T02:30:08.307457Z",
     "shell.execute_reply": "2022-07-15T02:30:08.307100Z"
    },
    "papermill": {
     "duration": 0.005746,
     "end_time": "2022-07-15T02:30:08.308759",
     "exception": false,
     "start_time": "2022-07-15T02:30:08.303013",
     "status": "completed"
    },
    "tags": []
   },
   "outputs": [],
   "source": [
    "data_file = os.getenv('DATASET_URL',\n",
    "                      'https://dax-cdn.cdn.appdomain.cloud/'\n",
    "                      'dax-noaa-weather-data-jfk-airport/1.1.4/'\n",
    "                      'noaa-weather-data-jfk-airport.tar.gz')"
   ]
  },
  {
   "cell_type": "markdown",
   "id": "6ffefea7",
   "metadata": {
    "papermill": {
     "duration": 0.0015,
     "end_time": "2022-07-15T02:30:08.311584",
     "exception": false,
     "start_time": "2022-07-15T02:30:08.310084",
     "status": "completed"
    },
    "tags": []
   },
   "source": [
    "Download the data set from the location specified in `dataset_url`, extract it (if it is compressed) and store it in the directory identified by `data_dir_name`."
   ]
  },
  {
   "cell_type": "code",
   "execution_count": 3,
   "id": "818d7570",
   "metadata": {
    "execution": {
     "iopub.execute_input": "2022-07-15T02:30:08.314898Z",
     "iopub.status.busy": "2022-07-15T02:30:08.314722Z",
     "iopub.status.idle": "2022-07-15T02:30:08.752362Z",
     "shell.execute_reply": "2022-07-15T02:30:08.751949Z"
    },
    "papermill": {
     "duration": 0.440852,
     "end_time": "2022-07-15T02:30:08.753682",
     "exception": false,
     "start_time": "2022-07-15T02:30:08.312830",
     "status": "completed"
    },
    "tags": []
   },
   "outputs": [
    {
     "name": "stdout",
     "output_type": "stream",
     "text": [
      "Downloading data file https://dax-cdn.cdn.appdomain.cloud/dax-noaa-weather-data-jfk-airport/1.1.4/noaa-weather-data-jfk-airport.tar.gz ...\n",
      "Saving downloaded file \"noaa-weather-data-jfk-airport.tar.gz\" as ...\n",
      "Extracting downloaded file in directory \"data\" ...\n",
      "Removing downloaded file ...\n"
     ]
    }
   ],
   "source": [
    "data_dir_name = 'data'\n",
    "\n",
    "print('Downloading data file {} ...'.format(data_file))\n",
    "r = requests.get(data_file)\n",
    "if r.status_code != 200:\n",
    "    raise RuntimeError('Could not fetch {}: HTTP status code {}'\n",
    "                       .format(data_file, r.status_code))\n",
    "else:\n",
    "    # extract data set file name from URL\n",
    "    data_file_name = Path((urlparse(data_file).path)).name\n",
    "    # create the directory where the downloaded file will be stored\n",
    "    data_dir = Path(data_dir_name)\n",
    "    data_dir.mkdir(parents=True, exist_ok=True)\n",
    "    downloaded_data_file = data_dir / data_file_name\n",
    "\n",
    "    print('Saving downloaded file \"{}\" as ...'.format(data_file_name))\n",
    "    with open(downloaded_data_file, 'wb') as downloaded_file:\n",
    "        downloaded_file.write(r.content)\n",
    "\n",
    "    if r.headers['content-type'] == 'application/x-tar':\n",
    "        print('Extracting downloaded file in directory \"{}\" ...'\n",
    "              .format(data_dir))\n",
    "        with tarfile.open(downloaded_data_file, 'r') as tar:\n",
    "            tar.extractall(data_dir)\n",
    "        print('Removing downloaded file ...')\n",
    "        downloaded_data_file.unlink()"
   ]
  },
  {
   "cell_type": "markdown",
   "id": "b3b32a95",
   "metadata": {
    "papermill": {
     "duration": 0.001377,
     "end_time": "2022-07-15T02:30:08.756715",
     "exception": false,
     "start_time": "2022-07-15T02:30:08.755338",
     "status": "completed"
    },
    "tags": []
   },
   "source": [
    "Display list of extracted data files"
   ]
  },
  {
   "cell_type": "code",
   "execution_count": 4,
   "id": "8e6ff30d",
   "metadata": {
    "execution": {
     "iopub.execute_input": "2022-07-15T02:30:08.760009Z",
     "iopub.status.busy": "2022-07-15T02:30:08.759842Z",
     "iopub.status.idle": "2022-07-15T02:30:08.762720Z",
     "shell.execute_reply": "2022-07-15T02:30:08.762398Z"
    },
    "papermill": {
     "duration": 0.005974,
     "end_time": "2022-07-15T02:30:08.763919",
     "exception": false,
     "start_time": "2022-07-15T02:30:08.757945",
     "status": "completed"
    },
    "tags": []
   },
   "outputs": [
    {
     "name": "stdout",
     "output_type": "stream",
     "text": [
      "data/noaa-weather-data-jfk-airport\n",
      "data/noaa-weather-data-jfk-airport/clean_data.py\n",
      "data/noaa-weather-data-jfk-airport/jfk_weather_cleaned.csv\n",
      "data/noaa-weather-data-jfk-airport/jfk_weather.csv\n",
      "data/noaa-weather-data-jfk-airport/README.txt\n",
      "data/noaa-weather-data-jfk-airport/LICENSE.txt\n"
     ]
    }
   ],
   "source": [
    "for entry in glob.glob(data_dir_name + \"/**/*\", recursive=True):\n",
    "    print(entry)"
   ]
  }
 ],
 "metadata": {
  "kernelspec": {
   "display_name": "Python 3 (ipykernel)",
   "language": "python",
   "name": "python3"
  },
  "language_info": {
   "codemirror_mode": {
    "name": "ipython",
    "version": 3
   },
   "file_extension": ".py",
   "mimetype": "text/x-python",
   "name": "python",
   "nbconvert_exporter": "python",
   "pygments_lexer": "ipython3",
   "version": "3.8.9"
  },
  "papermill": {
   "duration": 1.599983,
   "end_time": "2022-07-15T02:30:08.881552",
   "environment_variables": {},
   "exception": null,
   "input_path": "/Users/woojincha/Desktop/elyra/examples/pipelines/dax_noaa_weather_data/load_data.ipynb",
   "output_path": "/Users/woojincha/Desktop/elyra/examples/pipelines/dax_noaa_weather_data/load_data.ipynb",
   "parameters": {},
   "start_time": "2022-07-15T02:30:07.281569",
   "version": "2.1.1"
  }
 },
 "nbformat": 4,
 "nbformat_minor": 5
}
